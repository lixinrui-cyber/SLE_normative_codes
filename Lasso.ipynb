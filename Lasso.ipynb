{
 "cells": [
  {
   "cell_type": "code",
   "execution_count": 2,
   "id": "c0386884",
   "metadata": {},
   "outputs": [
    {
     "name": "stdout",
     "output_type": "stream",
     "text": [
      "平均绝对误差 (MAE): 15.708777007830836\n",
      "均方误差 (MSE): 393.8978544849292\n",
      "R²分数: 0.6561074636936697\n",
      "最佳alpha值: 2.576268261363752\n",
      "各个回归系数 (Coefficients): [ 2.75754481 10.64601591  0.         11.72023938  0.          1.53365437\n",
      "  0.          0.          0.         -0.          0.         -0.\n",
      "  4.71145819 -0.         -0.          0.          0.          4.7985752\n",
      "  0.         -0.          0.        ]\n",
      "[ 41.91245835  44.24385301  40.24136312  67.49077307  80.5819953\n",
      "  47.19104722  51.9928553   89.72829147  63.59548494  54.65214109\n",
      "  53.12220978  56.82727031  58.93865275  49.96961744  53.99007334\n",
      "  63.0751161   88.44559831  79.67784416  47.52500353 137.00067518\n",
      "  45.81335013  37.38502471 134.57439063  53.32858821  35.19588617\n",
      "  41.65324311  98.82946301  43.29984091  53.83678564  41.09165879\n",
      "  42.88648264  53.12884559  42.74798148  65.192757    55.74327114\n",
      "  72.09010707]\n",
      "[ 45  39  20  59  87  34  51  76  49  49 103  39  50  43  94  44 117  55\n",
      "  46 171  44  45 165  27  31  34  74  82  49  68  35  42  51  53  35  81]\n"
     ]
    }
   ],
   "source": [
    "import numpy as np\n",
    "import pandas as pd\n",
    "from sklearn.linear_model import LassoCV\n",
    "from sklearn.model_selection import LeaveOneOut\n",
    "from sklearn.metrics import mean_squared_error, r2_score\n",
    "import matplotlib.pyplot as plt\n",
    "from sklearn.metrics import mean_absolute_error\n",
    "# 加载CSV文件\n",
    "df = pd.read_csv('D:/yanyi/PCNtoolkit-demo-main/data/BLR60/STTA2.csv')\n",
    "\n",
    "# 假设CSV文件的第一列是协变量，第二列是目标变量，其余列是自变量\n",
    "X = df.iloc[:, 1:].values  # 选择自变量\n",
    "y = df.iloc[:, 0].values   # 选择目标变量\n",
    "\n",
    "# 创建LassoCV模型实例，使用留一交叉验证\n",
    "# 注意：当样本量较少时，使用较大的alphas范围可能导致性能问题\n",
    "\n",
    "import numpy as np\n",
    "\n",
    "#gamma_values = np.linspace(-6, 5, 20)  # 在 -6 到 5 之间生成 20 个 γ 值\n",
    "#lasso_cv = LassoCV(cv=LeaveOneOut(), alphas = np.exp(gamma_values))\n",
    "lasso_cv = LassoCV(cv=LeaveOneOut())\n",
    "# 训练模型\n",
    "lasso_cv.fit(X, y)\n",
    "\n",
    "# 计算性能指标\n",
    "y_pred = lasso_cv.predict(X)\n",
    "mse = mean_squared_error(y, y_pred)\n",
    "r2 = r2_score(y, y_pred)\n",
    "\n",
    "\n",
    "# 计算MAE\n",
    "mae = mean_absolute_error(y, y_pred)\n",
    "print(f\"平均绝对误差 (MAE): {mae}\")\n",
    "\n",
    "\n",
    "print(f\"均方误差 (MSE): {mse}\")\n",
    "print(f\"R²分数: {r2}\")\n",
    "\n",
    "# 打印最佳alpha值\n",
    "print(f\"最佳alpha值: {lasso_cv.alpha_}\")\n",
    "\n",
    "# 获取并打印回归系数\n",
    "regression_coefficients = lasso_cv.coef_\n",
    "print(f\"各个回归系数 (Coefficients): {regression_coefficients}\")\n",
    "\n",
    "print(y_pred)\n",
    "print(y)\n"
   ]
  },
  {
   "cell_type": "code",
   "execution_count": null,
   "id": "d33fa318",
   "metadata": {},
   "outputs": [],
   "source": []
  }
 ],
 "metadata": {
  "kernelspec": {
   "display_name": "Python 3 (ipykernel)",
   "language": "python",
   "name": "python3"
  },
  "language_info": {
   "codemirror_mode": {
    "name": "ipython",
    "version": 3
   },
   "file_extension": ".py",
   "mimetype": "text/x-python",
   "name": "python",
   "nbconvert_exporter": "python",
   "pygments_lexer": "ipython3",
   "version": "3.10.9"
  }
 },
 "nbformat": 4,
 "nbformat_minor": 5
}
