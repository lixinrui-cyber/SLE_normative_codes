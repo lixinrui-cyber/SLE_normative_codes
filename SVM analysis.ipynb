{
 "cells": [
  {
   "cell_type": "code",
   "execution_count": 10,
   "id": "06c5aa4a",
   "metadata": {},
   "outputs": [
    {
     "name": "stdout",
     "output_type": "stream",
     "text": [
      "Original Accuracy: 0.7719298245614035\n",
      "P-value: 0.022\n"
     ]
    }
   ],
   "source": [
    "import numpy as np\n",
    "from sklearn.model_selection import train_test_split\n",
    "from sklearn.svm import SVC\n",
    "from sklearn.metrics import accuracy_score\n",
    "import pandas as pd\n",
    "from sklearn import datasets\n",
    "# 假设数据已经加载到DataFrame 'data' 中，格式与之前相同\n",
    "data = pd.read_csv('D:/yanyi/PCNtoolkit-demo-main/data/BLR60/SVM2.csv')  # 请确保路径正确\n",
    "\n",
    "# 分离特征和标签\n",
    "X = data.iloc[:, :-1]  # 假设最后一列是'group'\n",
    "y = data['group']\n",
    "y = y.map({'HC': 0, 'SLE': 1})  # 根据实际分组标签替换'group1', 'group2'\n",
    "\n",
    "# 原始模型训练\n",
    "model = SVC()\n",
    "X_train, X_test, y_train, y_test = train_test_split(X, y, test_size=0.3, random_state=42)\n",
    "model.fit(X_train, y_train)\n",
    "original_accuracy = accuracy_score(y_test, model.predict(X_test))\n",
    "\n",
    "# 置换检验\n",
    "permutations = 1000\n",
    "permuted_accuracies = []\n",
    "\n",
    "for _ in range(permutations):\n",
    "    # 随机打乱标签\n",
    "    y_permuted = np.random.permutation(y)\n",
    "    # 重新训练模型\n",
    "    model.fit(X_train, y_permuted[:int(0.7 * len(y))])\n",
    "    # 计算准确率\n",
    "    permuted_accuracy = accuracy_score(y_permuted[int(0.7 * len(y)):], model.predict(X_test))\n",
    "    permuted_accuracies.append(permuted_accuracy)\n",
    "\n",
    "# 计算p值\n",
    "p_value = (sum(permuted_accuracies >= original_accuracy)) / (permutations)\n",
    "\n",
    "print(f\"Original Accuracy: {original_accuracy}\")\n",
    "print(f\"P-value: {p_value}\")"
   ]
  }
 ],
 "metadata": {
  "kernelspec": {
   "display_name": "Python 3 (ipykernel)",
   "language": "python",
   "name": "python3"
  },
  "language_info": {
   "codemirror_mode": {
    "name": "ipython",
    "version": 3
   },
   "file_extension": ".py",
   "mimetype": "text/x-python",
   "name": "python",
   "nbconvert_exporter": "python",
   "pygments_lexer": "ipython3",
   "version": "3.10.9"
  }
 },
 "nbformat": 4,
 "nbformat_minor": 5
}
